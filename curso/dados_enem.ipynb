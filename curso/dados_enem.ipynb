{
 "cells": [
  {
   "cell_type": "markdown",
   "metadata": {},
   "source": [
    "# Análise dos dados do ENEM\n",
    "## Arquivo com 10% dos dados"
   ]
  },
  {
   "cell_type": "code",
   "execution_count": null,
   "metadata": {},
   "outputs": [],
   "source": [
    "# Importação de bibliotecas\n",
    "import pandas as pd"
   ]
  },
  {
   "cell_type": "code",
   "execution_count": null,
   "metadata": {},
   "outputs": [],
   "source": [
    "# Carregando o arquivo\n",
    "df = pd.read_excel('ENEM_2017_2019_AMOSTRA_01.xlsx')\n",
    "\n",
    "# Verificando o tamanho do dataframe em termos de (linhas, colunas)\n",
    "df.shape"
   ]
  },
  {
   "cell_type": "code",
   "execution_count": null,
   "metadata": {},
   "outputs": [],
   "source": [
    "# Analisando os tipos das colunas\n",
    "df.info()"
   ]
  },
  {
   "cell_type": "code",
   "execution_count": null,
   "metadata": {},
   "outputs": [],
   "source": [
    "# Visulizando os 5 primeiros registros\n",
    "df.head()"
   ]
  },
  {
   "cell_type": "code",
   "execution_count": null,
   "metadata": {},
   "outputs": [],
   "source": [
    "# Visulizando os 5 primeiros registros de forma transposta\n",
    "df.head().T"
   ]
  },
  {
   "cell_type": "code",
   "execution_count": null,
   "metadata": {},
   "outputs": [],
   "source": [
    "# Visualizando os 5 últimos registros\n",
    "df.tail()"
   ]
  },
  {
   "cell_type": "code",
   "execution_count": null,
   "metadata": {},
   "outputs": [],
   "source": [
    "# Visualizando 5 registros aleatórios\n",
    "df.sample(5)"
   ]
  },
  {
   "cell_type": "code",
   "execution_count": null,
   "metadata": {},
   "outputs": [],
   "source": [
    "# Análise quantitativa dos dados\n",
    "df.describe()"
   ]
  },
  {
   "cell_type": "code",
   "execution_count": null,
   "metadata": {},
   "outputs": [],
   "source": [
    "# Vamos analisar apenas as colunas de notas\n",
    "colunas_notas = ['NU_NOTA_CN', 'NU_NOTA_CH', 'NU_NOTA_LC', 'NU_NOTA_MT', 'NU_NOTA_COMP1',\n",
    "                 'NU_NOTA_COMP2', 'NU_NOTA_COMP3', 'NU_NOTA_COMP4', 'NU_NOTA_COMP5',\n",
    "                 'NU_NOTA_REDACAO', 'NOTA_MEDIA' ]\n",
    "\n",
    "df[colunas_notas].describe()"
   ]
  },
  {
   "cell_type": "code",
   "execution_count": null,
   "metadata": {},
   "outputs": [],
   "source": [
    "# Toda vez que usamos [] estamos separando uma parte do dataframe para exibição/tratamento\n",
    "\n",
    "# Selecionando os dados de apenas uma coluna\n",
    "df['TP_SEXO']"
   ]
  },
  {
   "cell_type": "code",
   "execution_count": null,
   "metadata": {},
   "outputs": [],
   "source": [
    "# Trabalhando a visualização dos dados da coluna TP_SEXO\n",
    "df['TP_SEXO'].value_counts()"
   ]
  },
  {
   "cell_type": "code",
   "execution_count": null,
   "metadata": {},
   "outputs": [],
   "source": [
    "# Trabalhando a visualização dos dados da coluna TP_SEXO\n",
    "df['TP_SEXO'].value_counts(normalize=True)"
   ]
  },
  {
   "cell_type": "code",
   "execution_count": null,
   "metadata": {},
   "outputs": [],
   "source": [
    "# Podemos usar value_counts() para analisar diversas colunas\n",
    "# Como SG_UF_RESIDENCIA\n",
    "df['SG_UF_RESIDENCIA'].value_counts()"
   ]
  },
  {
   "cell_type": "code",
   "execution_count": null,
   "metadata": {},
   "outputs": [],
   "source": [
    "# Analisando o Tipo de Escola\n",
    "df['TP_ESCOLA'].value_counts()"
   ]
  },
  {
   "cell_type": "code",
   "execution_count": null,
   "metadata": {},
   "outputs": [],
   "source": [
    "# As variáveis estão convertidas em valores numéricos para facilitar\n",
    "# o processamento: é mais fácil guardar os dados assim e para os modelos\n",
    "# de Machine Leraning é obrigatório que os dados sejam numéricos\n",
    "\n",
    "# Mas podemos mapear de volta os números em texto. A gente sempre tem\n",
    "# que mapear texto em número, mas o processo é o mesmo e pode ser feito\n",
    "# em sentido inverso\n",
    "\n",
    "# Dicionário com o mapeamento\n",
    "tp_escola = {1: 'Não Respondeu', 2: 'Pública', 3: 'Privada', 4: 'Exterior'}\n",
    "\n",
    "# Criando uma nova coluna\n",
    "df['TIPO_ESCOLA'] = df['TP_ESCOLA'].map(tp_escola)\n",
    "\n",
    "# Analisando o Tipo de Escola\n",
    "df['TIPO_ESCOLA'].value_counts()"
   ]
  },
  {
   "cell_type": "code",
   "execution_count": null,
   "metadata": {},
   "outputs": [],
   "source": [
    "# Vamos ver os dados de idade dos participantes do ENEM\n",
    "df['NU_IDADE'].describe()"
   ]
  },
  {
   "cell_type": "code",
   "execution_count": null,
   "metadata": {},
   "outputs": [],
   "source": [
    "# Verificando as 5 menores idade\n",
    "df.nsmallest(5, 'NU_IDADE')"
   ]
  },
  {
   "cell_type": "code",
   "execution_count": null,
   "metadata": {},
   "outputs": [],
   "source": [
    "# Quantos participantes têm menos de 16 anos?\n",
    "df[df['NU_IDADE'] < 16]['NU_IDADE'].count()"
   ]
  },
  {
   "cell_type": "code",
   "execution_count": null,
   "metadata": {},
   "outputs": [],
   "source": [
    "# Distribuição das idades\n",
    "df[df['NU_IDADE'] < 16]['NU_IDADE'].value_counts()"
   ]
  },
  {
   "cell_type": "code",
   "execution_count": null,
   "metadata": {},
   "outputs": [],
   "source": [
    "# Visualização gráfica da distribuição dessas idades menores\n",
    "df[df['NU_IDADE'] < 16]['NU_IDADE'].value_counts().plot.barh()"
   ]
  },
  {
   "cell_type": "code",
   "execution_count": null,
   "metadata": {},
   "outputs": [],
   "source": [
    "# Verificando as 5 maiores idades\n",
    "df.nlargest(5, 'NU_IDADE')"
   ]
  },
  {
   "cell_type": "code",
   "execution_count": null,
   "metadata": {},
   "outputs": [],
   "source": [
    "# Média das notas presentes na base de dados\n",
    "df[['NU_NOTA_CN', 'NU_NOTA_CH', 'NU_NOTA_LC', 'NU_NOTA_MT', 'NU_NOTA_REDACAO']].mean()"
   ]
  },
  {
   "cell_type": "code",
   "execution_count": null,
   "metadata": {},
   "outputs": [],
   "source": [
    "# Em gráfico\n",
    "df[['NU_NOTA_CN', 'NU_NOTA_CH', 'NU_NOTA_LC', 'NU_NOTA_MT', 'NU_NOTA_REDACAO']].mean().plot.bar()"
   ]
  },
  {
   "cell_type": "code",
   "execution_count": null,
   "metadata": {},
   "outputs": [],
   "source": [
    "# Outro gráfico\n",
    "df[['NU_NOTA_CN', 'NU_NOTA_CH', 'NU_NOTA_LC', 'NU_NOTA_MT', 'NU_NOTA_REDACAO']].mean().plot.barh()"
   ]
  },
  {
   "cell_type": "code",
   "execution_count": null,
   "metadata": {},
   "outputs": [],
   "source": [
    "# Quantas pessoas vão fazer prova em um estado diferente daquele que moram?\n",
    "df[df['SG_UF_RESIDENCIA'] != df['SG_UF_PROVA']]['SG_UF_RESIDENCIA'].count()"
   ]
  },
  {
   "cell_type": "code",
   "execution_count": null,
   "metadata": {},
   "outputs": [],
   "source": [
    "# Vamos criar um dataframe específico para os residentes no RR\n",
    "df_df = df[df['SG_UF_RESIDENCIA'] == 'DF'].copy()\n",
    "\n",
    "df_df.shape"
   ]
  },
  {
   "cell_type": "code",
   "execution_count": null,
   "metadata": {},
   "outputs": [],
   "source": [
    "# Quantas pessoas do DF vão fazer a prova em outra UF?\n",
    "df_df[df_df['SG_UF_RESIDENCIA'] != df_df['SG_UF_PROVA']]['SG_UF_RESIDENCIA'].count()"
   ]
  },
  {
   "cell_type": "code",
   "execution_count": null,
   "metadata": {},
   "outputs": [],
   "source": [
    "# Vamos verificar essa lista de 17 pessoas\n",
    "lista_colunas = ['SG_UF_RESIDENCIA', 'NO_MUNICIPIO_RESIDENCIA', 'SG_UF_PROVA', 'NO_MUNICIPIO_PROVA',\n",
    "                'TP_SEXO', 'NU_NOTA_REDACAO']\n",
    "\n",
    "df_df[df_df['SG_UF_RESIDENCIA'] != df_df['SG_UF_PROVA']][lista_colunas]"
   ]
  },
  {
   "cell_type": "code",
   "execution_count": null,
   "metadata": {},
   "outputs": [],
   "source": []
  }
 ],
 "metadata": {
  "kernelspec": {
   "display_name": "Python 3",
   "language": "python",
   "name": "python3"
  },
  "language_info": {
   "codemirror_mode": {
    "name": "ipython",
    "version": 3
   },
   "file_extension": ".py",
   "mimetype": "text/x-python",
   "name": "python",
   "nbconvert_exporter": "python",
   "pygments_lexer": "ipython3",
   "version": "3.7.6"
  }
 },
 "nbformat": 4,
 "nbformat_minor": 4
}
